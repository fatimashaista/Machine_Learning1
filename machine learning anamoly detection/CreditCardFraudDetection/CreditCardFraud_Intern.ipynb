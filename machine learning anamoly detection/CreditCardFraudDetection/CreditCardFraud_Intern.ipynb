{
  "nbformat": 4,
  "nbformat_minor": 0,
  "metadata": {
    "colab": {
      "name": "CreditCardFraud-Intern.ipynb",
      "provenance": [],
      "collapsed_sections": []
    },
    "kernelspec": {
      "name": "python3",
      "display_name": "Python 3"
    },
    "language_info": {
      "name": "python"
    }
  },
  "cells": [
    {
      "cell_type": "markdown",
      "metadata": {
        "id": "ku7jXoWESrJd"
      },
      "source": [
        "## Import Libraries\n"
      ]
    },
    {
      "cell_type": "code",
      "metadata": {
        "id": "sHwp8QSjRJkh"
      },
      "source": [
        "import pandas as pd \n",
        "from pandas import read_csv\n",
        "import numpy as np\n",
        "import matplotlib\n",
        "import matplotlib.pyplot as plt\n",
        "from sklearn.model_selection import train_test_split\n",
        "from sklearn.metrics import classification_report, accuracy_score\n",
        "from sklearn.metrics import confusion_matrix\n",
        "from sklearn.linear_model import LogisticRegression\n",
        "from sklearn import metrics\n",
        "import seaborn as sns"
      ],
      "execution_count": null,
      "outputs": []
    },
    {
      "cell_type": "markdown",
      "metadata": {
        "id": "alCydFTlT6hC"
      },
      "source": [
        "## Choose Dataset from Directory"
      ]
    },
    {
      "cell_type": "code",
      "metadata": {
        "id": "RiHcddjTR9sd"
      },
      "source": [
        "from google.colab import drive\n",
        "drive.mount('/content/gdrive')"
      ],
      "execution_count": null,
      "outputs": []
    },
    {
      "cell_type": "markdown",
      "metadata": {
        "id": "I2QI46diUXsc"
      },
      "source": [
        "## Load Dataset\n"
      ]
    },
    {
      "cell_type": "code",
      "metadata": {
        "id": "48g7kn9RSImi"
      },
      "source": [
        "fileName = \"/content/gdrive/My Drive/MachineLearningMasterClass/Code4/creditcard.csv\"\n",
        "dataset = read_csv(fileName)"
      ],
      "execution_count": null,
      "outputs": []
    },
    {
      "cell_type": "markdown",
      "metadata": {
        "id": "1eemNkQoUbjq"
      },
      "source": [
        "## Summarize Dataset"
      ]
    },
    {
      "cell_type": "code",
      "metadata": {
        "id": "AR_EsEsuSWwy"
      },
      "source": [
        "print(dataset.shape)\n",
        "print(dataset.head(20))\n",
        "print(dataset.describe())"
      ],
      "execution_count": null,
      "outputs": []
    },
    {
      "cell_type": "markdown",
      "metadata": {
        "id": "F_Q2pZgGUh_v"
      },
      "source": [
        "## Check Null values in Dataset"
      ]
    },
    {
      "cell_type": "code",
      "metadata": {
        "id": "v7q2SNfjSlko"
      },
      "source": [
        "dataset.isna().any()"
      ],
      "execution_count": null,
      "outputs": []
    },
    {
      "cell_type": "markdown",
      "metadata": {
        "id": "mo7pi6RPUtoJ"
      },
      "source": [
        "## Find Percentage of Not Fraud transaction Data"
      ]
    },
    {
      "cell_type": "markdown",
      "metadata": {
        "id": "K-4dPCg4U_uV"
      },
      "source": [
        "\n",
        "\n",
        "1.   dataset[‘Class’] = 0 Not a fraud\n",
        "2.   dataset[‘Class’] = 1 Fraud\n",
        "\n",
        "\n"
      ]
    },
    {
      "cell_type": "code",
      "metadata": {
        "id": "8az0LMvyU2gz"
      },
      "source": [
        "nfcount=0\n",
        "\n",
        "notFraud=dataset['Class']\n",
        "\n",
        "for i in range(len(notFraud)):\n",
        "\n",
        "  if notFraud[i]==0:\n",
        "\n",
        "    nfcount=nfcount+1\n",
        "\n",
        "nfcount    \n",
        "\n",
        "per_nf=(nfcount/len(notFraud))*100\n",
        "\n",
        "print('percentage of total not fraud transaction in the dataset: ',per_nf)"
      ],
      "execution_count": null,
      "outputs": []
    },
    {
      "cell_type": "markdown",
      "metadata": {
        "id": "d0ZuF2CuVXyJ"
      },
      "source": [
        "## Find Percentage of Fraud transaction Data"
      ]
    },
    {
      "cell_type": "code",
      "metadata": {
        "id": "Ne2nyiDBVW8K"
      },
      "source": [
        "fcount=0\n",
        "\n",
        "Fraud=dataset['Class']\n",
        "\n",
        "for i in range(len(Fraud)):\n",
        "\n",
        "  if Fraud[i]==1:\n",
        "\n",
        "    fcount=fcount+1\n",
        "\n",
        "fcount    \n",
        "\n",
        "per_f=(fcount/len(Fraud))*100\n",
        "\n",
        "print('percentage of total fraud transaction in the dataset: ',per_f)"
      ],
      "execution_count": null,
      "outputs": []
    },
    {
      "cell_type": "markdown",
      "metadata": {
        "id": "8FnyfasrWVVg"
      },
      "source": [
        "## Plot Fraud transaction vs Non-Fraud transaction\n",
        "\n",
        "Plot Amount Vs Time:"
      ]
    },
    {
      "cell_type": "code",
      "metadata": {
        "id": "T6X0LYRzVqfw"
      },
      "source": [
        "x=dataset['Time']\n",
        "\n",
        "y=dataset['Amount']\n",
        "\n",
        "plt.plot(x, y) \n",
        "\n",
        "plt.title('Time Vs amount') \n"
      ],
      "execution_count": null,
      "outputs": []
    },
    {
      "cell_type": "markdown",
      "metadata": {
        "id": "UrREc3aWWuSo"
      },
      "source": [
        "## Plot Amount Distribution Curve:"
      ]
    },
    {
      "cell_type": "code",
      "metadata": {
        "id": "z3mZkj-CW0Qa"
      },
      "source": [
        "plt.figure(figsize=(10,8), )\n",
        "\n",
        "plt.title('Amount Distribution')\n",
        "\n",
        "sns.distplot(dataset['Amount'],color='red');"
      ],
      "execution_count": null,
      "outputs": []
    },
    {
      "cell_type": "markdown",
      "metadata": {
        "id": "stbNXG5CW-A1"
      },
      "source": [
        "## Correlation between all attribute"
      ]
    },
    {
      "cell_type": "code",
      "metadata": {
        "id": "Plb76uj5W87o"
      },
      "source": [
        "correlation_metrics = dataset.corr() \n",
        "\n",
        "fig = plt.figure(figsize = (14, 9)) \n",
        "\n",
        "sns.heatmap(correlation_metrics, vmax = .9, square = True) \n",
        "\n",
        "plt.show()"
      ],
      "execution_count": null,
      "outputs": []
    },
    {
      "cell_type": "code",
      "metadata": {
        "id": "AimBv4iWXTe5"
      },
      "source": [
        "x=dataset.drop(['Class'], axis = 1)#drop the target variable\n",
        "\n",
        "y=dataset['Class']\n",
        "\n",
        "xtrain, xtest, ytrain, ytest = train_test_split(x, y, test_size = 0.2, random_state = 42)"
      ],
      "execution_count": null,
      "outputs": []
    },
    {
      "cell_type": "code",
      "metadata": {
        "id": "_mMwCL_0XXLz"
      },
      "source": [
        "from sklearn.linear_model import LinearRegression\n",
        "\n",
        "linear =LinearRegression()\n",
        "\n",
        "linear.fit(xtrain, ytrain)"
      ],
      "execution_count": null,
      "outputs": []
    },
    {
      "cell_type": "code",
      "metadata": {
        "id": "GgsmMMziXd5N"
      },
      "source": [
        "y_pred = linear.predict(xtest)\n",
        "\n",
        "table= pd.DataFrame({\"Actual\":ytest,\"Predicted\":y_pred})\n",
        "\n",
        "table"
      ],
      "execution_count": null,
      "outputs": []
    }
  ]
}